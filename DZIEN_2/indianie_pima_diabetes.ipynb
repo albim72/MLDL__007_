{
 "cells":[
  {
   "cell_type":"code",
   "source":[
    "import pandas as pd\n",
    "from sklearn.tree import DecisionTreeClassifier\n",
    "from sklearn.model_selection import train_test_split\n",
    "from sklearn import metrics"
   ],
   "execution_count":1,
   "outputs":[],
   "metadata":{
    "datalore":{
     "node_id":"LZHEdRljBD5o76Qc36NmRp",
     "type":"CODE",
     "hide_input_from_viewers":true,
     "hide_output_from_viewers":true
    }
   }
  },
  {
   "cell_type":"code",
   "source":[
    "col_names = ['pregnant','glucose','bp','skin','insulin','bmi','pedigree','age','label']"
   ],
   "execution_count":2,
   "outputs":[],
   "metadata":{
    "datalore":{
     "node_id":"GaQKmBm9gzwTxq2svsS7Hq",
     "type":"CODE",
     "hide_input_from_viewers":true,
     "hide_output_from_viewers":true
    }
   }
  },
  {
   "cell_type":"code",
   "source":[
    "pima = pd.read_csv('diabetes.csv',header=None,names=col_names)\n",
    "print(pima.head(7))"
   ],
   "execution_count":3,
   "outputs":[
    {
     "name":"stdout",
     "text":[
      "   pregnant  glucose  bp  skin  insulin   bmi  pedigree  age  label\n",
      "0         6      148  72    35        0  33.6     0.627   50      1\n",
      "1         1       85  66    29        0  26.6     0.351   31      0\n",
      "2         8      183  64     0        0  23.3     0.672   32      1\n",
      "3         1       89  66    23       94  28.1     0.167   21      0\n",
      "4         0      137  40    35      168  43.1     2.288   33      1\n",
      "5         5      116  74     0        0  25.6     0.201   30      0\n",
      "6         3       78  50    32       88  31.0     0.248   26      1\n"
     ],
     "output_type":"stream"
    }
   ],
   "metadata":{
    "datalore":{
     "node_id":"IS8so0tMiG6wzWWORaKMNh",
     "type":"CODE",
     "hide_input_from_viewers":true,
     "hide_output_from_viewers":true
    }
   }
  },
  {
   "cell_type":"code",
   "source":[
    "feature_cols = ['pregnant','insulin','bmi','age','glucose','bp','pedigree']"
   ],
   "execution_count":4,
   "outputs":[],
   "metadata":{
    "datalore":{
     "node_id":"XsShDDnnhzHgBboD5pY0AR",
     "type":"CODE",
     "hide_input_from_viewers":true,
     "hide_output_from_viewers":true
    }
   }
  },
  {
   "cell_type":"code",
   "source":[
    "X = pima[feature_cols]\n",
    "y = pima.label\n",
    "\n",
    "X_train,X_test,y_train,y_test = train_test_split(X,y,test_size=0.25,random_state=1)"
   ],
   "execution_count":8,
   "outputs":[],
   "metadata":{
    "datalore":{
     "node_id":"PMbmslawyRBeQrcisJbqy4",
     "type":"CODE",
     "hide_input_from_viewers":true,
     "hide_output_from_viewers":true
    }
   }
  },
  {
   "cell_type":"code",
   "source":[
    "clf = DecisionTreeClassifier()\n",
    "clf = clf.fit(X_train,y_train)"
   ],
   "execution_count":9,
   "outputs":[],
   "metadata":{
    "datalore":{
     "node_id":"RsPHtLOhFCjUfkRkXV3nJG",
     "type":"CODE",
     "hide_input_from_viewers":true,
     "hide_output_from_viewers":true
    }
   }
  },
  {
   "cell_type":"code",
   "source":[
    "y_pred = clf.predict(X_test)\n",
    "print(f'Accuracy (dokładnośc) -> {metrics.accuracy_score(y_test,y_pred)}')"
   ],
   "execution_count":10,
   "outputs":[
    {
     "name":"stdout",
     "text":[
      "Accuracy (dokładnośc) -> 0.7083333333333334\n"
     ],
     "output_type":"stream"
    }
   ],
   "metadata":{
    "datalore":{
     "node_id":"BInV0ljlpECAVynlVo0hPh",
     "type":"CODE",
     "hide_input_from_viewers":true,
     "hide_output_from_viewers":true
    }
   }
  }
 ],
 "metadata":{
  "kernelspec":{
   "display_name":"Python",
   "language":"python",
   "name":"python"
  },
  "datalore":{
   "computation_mode":"JUPYTER",
   "package_manager":"pip",
   "base_environment":"default",
   "packages":[],
   "report_row_ids":[],
   "version":3
  }
 },
 "nbformat":4,
 "nbformat_minor":4
}
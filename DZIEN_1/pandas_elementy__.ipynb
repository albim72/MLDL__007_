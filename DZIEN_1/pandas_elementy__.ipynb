{
 "cells":[
  {
   "cell_type":"code",
   "source":[
    "import pandas as pd\n",
    "import numpy as np"
   ],
   "execution_count":1,
   "outputs":[],
   "metadata":{
    "datalore":{
     "node_id":"swNCal9u4JTqE5owataXgG",
     "type":"CODE",
     "hide_input_from_viewers":true,
     "hide_output_from_viewers":true
    }
   }
  },
  {
   "cell_type":"code",
   "source":[
    "s1 = pd.Series([5,7,24,6,89,46,73,56,785,435],index=['a','b','c','d','e','f','k','p','r','q'],name='wartośc')\n",
    "s1"
   ],
   "execution_count":2,
   "outputs":[
    {
     "data":{
      "text\/html":[
       "<pre>a      5\n",
       "b      7\n",
       "c     24\n",
       "d      6\n",
       "e     89\n",
       "f     46\n",
       "k     73\n",
       "p     56\n",
       "r    785\n",
       "q    435\n",
       "Name: wartośc, dtype: int64<\/pre>"
      ]
     },
     "metadata":{},
     "output_type":"display_data"
    }
   ],
   "metadata":{
    "datalore":{
     "node_id":"GSmZYXcrMROl3Fanon5OWy",
     "type":"CODE",
     "hide_input_from_viewers":true,
     "hide_output_from_viewers":true
    }
   }
  },
  {
   "cell_type":"code",
   "source":[
    "sdata = {'Warszawa':56447,'Lublin':32556,'Kraków':41899,'Gdańsk':42100}\n",
    "s2 = pd.Series(sdata,name='wnioski')\n",
    "s2"
   ],
   "execution_count":4,
   "outputs":[
    {
     "data":{
      "text\/html":[
       "<pre>Warszawa    56447\n",
       "Lublin      32556\n",
       "Kraków      41899\n",
       "Gdańsk      42100\n",
       "Name: wnioski, dtype: int64<\/pre>"
      ]
     },
     "metadata":{},
     "output_type":"display_data"
    }
   ],
   "metadata":{
    "datalore":{
     "node_id":"hK2cZdJGnGyesBMrR9xvDh",
     "type":"CODE",
     "hide_input_from_viewers":true,
     "hide_output_from_viewers":true
    }
   }
  },
  {
   "cell_type":"code",
   "source":[
    "fdata = {\n",
    "    'miasto':['Warszawa','Toruń','Przemyśl','Katowice'],\n",
    "    'wnioski':[12340,11450,13290,17890],\n",
    "    'projekty':[11,8,7,8]\n",
    "}\n",
    "\n",
    "frame = pd.DataFrame(fdata,index=[10,11,12,13])\n",
    "frame"
   ],
   "execution_count":5,
   "outputs":[
    {
     "data":{
      "text\/html":[
       "<div>\n",
       "<style scoped>\n",
       "    .dataframe tbody tr th:only-of-type {\n",
       "        vertical-align: middle;\n",
       "    }\n",
       "\n",
       "    .dataframe tbody tr th {\n",
       "        vertical-align: top;\n",
       "    }\n",
       "\n",
       "    .dataframe thead th {\n",
       "        text-align: right;\n",
       "    }\n",
       "<\/style>\n",
       "<table border=\"1\" class=\"dataframe\">\n",
       "  <thead>\n",
       "    <tr style=\"text-align: right;\">\n",
       "      <th><\/th>\n",
       "      <th>miasto<\/th>\n",
       "      <th>wnioski<\/th>\n",
       "      <th>projekty<\/th>\n",
       "    <\/tr>\n",
       "  <\/thead>\n",
       "  <tbody>\n",
       "    <tr>\n",
       "      <th>10<\/th>\n",
       "      <td>Warszawa<\/td>\n",
       "      <td>12340<\/td>\n",
       "      <td>11<\/td>\n",
       "    <\/tr>\n",
       "    <tr>\n",
       "      <th>11<\/th>\n",
       "      <td>Toruń<\/td>\n",
       "      <td>11450<\/td>\n",
       "      <td>8<\/td>\n",
       "    <\/tr>\n",
       "    <tr>\n",
       "      <th>12<\/th>\n",
       "      <td>Przemyśl<\/td>\n",
       "      <td>13290<\/td>\n",
       "      <td>7<\/td>\n",
       "    <\/tr>\n",
       "    <tr>\n",
       "      <th>13<\/th>\n",
       "      <td>Katowice<\/td>\n",
       "      <td>17890<\/td>\n",
       "      <td>8<\/td>\n",
       "    <\/tr>\n",
       "  <\/tbody>\n",
       "<\/table>\n",
       "<\/div>"
      ]
     },
     "metadata":{},
     "output_type":"display_data"
    }
   ],
   "metadata":{
    "datalore":{
     "node_id":"tq9hueTpfI5muhuSiQx7ko",
     "type":"CODE",
     "hide_input_from_viewers":true,
     "hide_output_from_viewers":true
    }
   }
  },
  {
   "cell_type":"code",
   "source":[
    "daty = pd.date_range(\"20240722\",periods=6)\n",
    "daty"
   ],
   "execution_count":14,
   "outputs":[
    {
     "data":{
      "text\/plain":[
       "DatetimeIndex(['2024-07-22', '2024-07-23', '2024-07-24', '2024-07-25',\n",
       "               '2024-07-26', '2024-07-27'],\n",
       "              dtype='datetime64[ns]', freq='D')"
      ]
     },
     "metadata":{},
     "output_type":"display_data"
    }
   ],
   "metadata":{
    "datalore":{
     "node_id":"0bFTeUjJ8m5gKZzM84gaXo",
     "type":"CODE",
     "hide_input_from_viewers":true,
     "hide_output_from_viewers":true
    }
   }
  },
  {
   "cell_type":"code",
   "source":[
    "df = pd.DataFrame(np.random.randn(6,4),index=daty,columns=list('ABCD'))\n",
    "df"
   ],
   "execution_count":18,
   "outputs":[
    {
     "data":{
      "text\/html":[
       "<div>\n",
       "<style scoped>\n",
       "    .dataframe tbody tr th:only-of-type {\n",
       "        vertical-align: middle;\n",
       "    }\n",
       "\n",
       "    .dataframe tbody tr th {\n",
       "        vertical-align: top;\n",
       "    }\n",
       "\n",
       "    .dataframe thead th {\n",
       "        text-align: right;\n",
       "    }\n",
       "<\/style>\n",
       "<table border=\"1\" class=\"dataframe\">\n",
       "  <thead>\n",
       "    <tr style=\"text-align: right;\">\n",
       "      <th><\/th>\n",
       "      <th>A<\/th>\n",
       "      <th>B<\/th>\n",
       "      <th>C<\/th>\n",
       "      <th>D<\/th>\n",
       "    <\/tr>\n",
       "  <\/thead>\n",
       "  <tbody>\n",
       "    <tr>\n",
       "      <th>2024-07-22<\/th>\n",
       "      <td>-1.044469<\/td>\n",
       "      <td>-0.009806<\/td>\n",
       "      <td>-1.642388<\/td>\n",
       "      <td>0.000959<\/td>\n",
       "    <\/tr>\n",
       "    <tr>\n",
       "      <th>2024-07-23<\/th>\n",
       "      <td>0.905585<\/td>\n",
       "      <td>-0.399041<\/td>\n",
       "      <td>1.296930<\/td>\n",
       "      <td>-0.148054<\/td>\n",
       "    <\/tr>\n",
       "    <tr>\n",
       "      <th>2024-07-24<\/th>\n",
       "      <td>-1.789599<\/td>\n",
       "      <td>1.742584<\/td>\n",
       "      <td>0.607860<\/td>\n",
       "      <td>1.001056<\/td>\n",
       "    <\/tr>\n",
       "    <tr>\n",
       "      <th>2024-07-25<\/th>\n",
       "      <td>0.391913<\/td>\n",
       "      <td>0.451432<\/td>\n",
       "      <td>0.189746<\/td>\n",
       "      <td>0.852892<\/td>\n",
       "    <\/tr>\n",
       "    <tr>\n",
       "      <th>2024-07-26<\/th>\n",
       "      <td>1.567371<\/td>\n",
       "      <td>-0.108911<\/td>\n",
       "      <td>0.109566<\/td>\n",
       "      <td>-0.460762<\/td>\n",
       "    <\/tr>\n",
       "    <tr>\n",
       "      <th>2024-07-27<\/th>\n",
       "      <td>-1.203403<\/td>\n",
       "      <td>1.713432<\/td>\n",
       "      <td>-0.902843<\/td>\n",
       "      <td>-0.254101<\/td>\n",
       "    <\/tr>\n",
       "  <\/tbody>\n",
       "<\/table>\n",
       "<\/div>"
      ]
     },
     "metadata":{},
     "output_type":"display_data"
    }
   ],
   "metadata":{
    "datalore":{
     "node_id":"jESLjabmWYQIq9voWtl1ea",
     "type":"CODE",
     "hide_input_from_viewers":true,
     "hide_output_from_viewers":true
    }
   }
  },
  {
   "cell_type":"code",
   "source":[
    "m = 'ABCD'\n",
    "m"
   ],
   "execution_count":19,
   "outputs":[
    {
     "data":{
      "text\/plain":[
       "'ABCD'"
      ]
     },
     "metadata":{},
     "output_type":"display_data"
    }
   ],
   "metadata":{
    "datalore":{
     "node_id":"roAvaUwAVxwyoj94olVe9q",
     "type":"CODE",
     "hide_input_from_viewers":true,
     "hide_output_from_viewers":true
    }
   }
  },
  {
   "cell_type":"code",
   "source":[
    "m[0]"
   ],
   "execution_count":20,
   "outputs":[
    {
     "data":{
      "text\/plain":[
       "'A'"
      ]
     },
     "metadata":{},
     "output_type":"display_data"
    }
   ],
   "metadata":{
    "datalore":{
     "node_id":"78YR890whsJASPlmkbNYrJ",
     "type":"CODE",
     "hide_input_from_viewers":true,
     "hide_output_from_viewers":true
    }
   }
  },
  {
   "cell_type":"code",
   "source":[
    "m[1:3]"
   ],
   "execution_count":23,
   "outputs":[
    {
     "data":{
      "text\/plain":[
       "'BC'"
      ]
     },
     "metadata":{},
     "output_type":"display_data"
    }
   ],
   "metadata":{
    "datalore":{
     "node_id":"YA1J5zKFtAiY2ryzmo8Iqb",
     "type":"CODE",
     "hide_input_from_viewers":true,
     "hide_output_from_viewers":true
    }
   }
  },
  {
   "cell_type":"code",
   "source":[
    "m[:2]"
   ],
   "execution_count":24,
   "outputs":[
    {
     "data":{
      "text\/plain":[
       "'AB'"
      ]
     },
     "metadata":{},
     "output_type":"display_data"
    }
   ],
   "metadata":{
    "datalore":{
     "node_id":"hofed7mXokZ4vR1PERKGrK",
     "type":"CODE",
     "hide_input_from_viewers":true,
     "hide_output_from_viewers":true
    }
   }
  }
 ],
 "metadata":{
  "kernelspec":{
   "display_name":"Python",
   "language":"python",
   "name":"python"
  },
  "datalore":{
   "computation_mode":"JUPYTER",
   "package_manager":"pip",
   "base_environment":"default",
   "packages":[],
   "report_row_ids":[],
   "version":3
  }
 },
 "nbformat":4,
 "nbformat_minor":4
}